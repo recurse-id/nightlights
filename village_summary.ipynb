{
 "cells": [
  {
   "cell_type": "code",
   "execution_count": 1,
   "metadata": {
    "collapsed": true
   },
   "outputs": [],
   "source": [
    "## we uploaded all the village files that I generated in \n",
    "## to google collab by going to the Files section on the left side of this page right clicking creating a new folder 'villages'\n",
    "## and pressing the upload button to upload all the files from your local computer\n",
    "from os import listdir\n",
    "district_files = listdir(\"districts\")\n",
    "# Village files contains all the villages seperated by districs\n",
    "\n",
    "\n"
   ]
  },
  {
   "cell_type": "code",
   "execution_count": 2,
   "metadata": {},
   "outputs": [],
   "source": [
    "## we want to make queries to the api by district \n",
    "## that way we can keep track of all the api calls that have been made and \n",
    "## restart from where we left off if an api call fails\n",
    "import csv\n",
    "import requests\n",
    "all_villagecodes = []\n",
    "for district in district_files: ## iterate through the district files \n",
    "\n",
    "    with open(f'districts/{district}', 'r') as villages_csv: # open each district file\n",
    "        ## read the CSV file and turn each line into a dictionary where the csv header is the key to the dictionary\n",
    "        villages = csv.DictReader(villages_csv)\n",
    "\n",
    "        for village in villages:\n",
    "            all_villagecodes.append(village) ## add villagecode the list we instantiated\n",
    "        ## after this for loop is finished the all_villagecodes list will contain \n",
    "        ## all the villagecodes for  all the districts\n"
   ]
  },
  {
   "cell_type": "code",
   "execution_count": 4,
   "metadata": {},
   "outputs": [],
   "source": [
    "\n",
    "#let's chunk this list in to lists of 100 villagecodes so that we can use comma seperated api call\n",
    "villagecode_chunks = [ all_villagecodes[i:i + 100] for i in range(0, len(all_villagecodes), 100)] "
   ]
  },
  {
   "cell_type": "code",
   "execution_count": 14,
   "metadata": {},
   "outputs": [],
   "source": [
    "\n",
    "all_responses = []\n",
    "start_no = 0 #which chunk to start from\n",
    "for chunk_no,chunk in enumerate(villagecode_chunks[start_no:]): \n",
    "    \n",
    "    villagecodes =  [c['villagecode'] for c in chunk] ## get all villagecodes in the chunk\n",
    "    village_dict = {}\n",
    "    for row in chunk:\n",
    "        village_dict[row['villagecode']] = row #create dictionary of the village code we can use to lookup the latitude, longitude, and name since it doesnt come back in the response\n",
    "    res = requests.get(f'http://api.nightlights.io/months/2010.1-2013.12/villages/{\",\".join(villagecodes)}')\n",
    "    if (res.status_code != 200):\n",
    "        print(\"response failed at chunk #\", chunk_no + start_no)\n",
    "    else:\n",
    "        chunk_json = res.json()\n",
    "        for row in chunk_json: ##add name lat and log from the dictionary we built to the response of the api call\n",
    "            row[\"name\"] = village_dict[row['villagecode']]['name']\n",
    "            row[\"latitude\"] = village_dict[row['villagecode']]['latitude']\n",
    "            row[\"longitude\"] = village_dict[row['villagecode']]['longitude']\n",
    "        \n",
    "        with open(f'output/{chunk_no+start_no}', 'w') as output: ## write chunk to disk, its easier to resume the job if we write frequently\n",
    "            writer = csv.DictWriter(output, fieldnames=chunk_json[0].keys())\n",
    "            if chunk_no+start_no == 0:\n",
    "                writer.writeheader()\n",
    "            for row in chunk_json:\n",
    "                writer.writerow(row)"
   ]
  },
  {
   "cell_type": "code",
   "execution_count": null,
   "metadata": {},
   "outputs": [],
   "source": [
    "\n",
    "\n"
   ]
  }
 ],
 "metadata": {
  "kernelspec": {
   "display_name": "Python 2",
   "language": "python",
   "name": "python2"
  },
  "language_info": {
   "codemirror_mode": {
    "name": "ipython",
    "version": 2
   },
   "file_extension": ".py",
   "mimetype": "text/x-python",
   "name": "python",
   "nbconvert_exporter": "python",
   "pygments_lexer": "ipython2",
   "version": "2.7.6"
  }
 },
 "nbformat": 4,
 "nbformat_minor": 0
}
