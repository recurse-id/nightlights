{
 "cells": [
  {
   "cell_type": "code",
   "execution_count": 1,
   "metadata": {
    "collapsed": true
   },
   "outputs": [],
   "source": [
    "import requests\n",
    "\n",
    "resp = requests.get(\"http://api.nightlights.io/months/2011.01-2013.12/states\")\n",
    "all_states = set()\n",
    "all_districts = set()\n",
    "if resp.status_code != 200:\n",
    "    # This means something went wrong.\n",
    "    print('GET /states/ {}'.format(resp.status_code))\n",
    "else:\n",
    "    for states in resp.json():\n",
    "        all_states.add(states['key'])"
   ]
  },
  {
   "cell_type": "code",
   "execution_count": 3,
   "metadata": {},
   "outputs": [],
   "source": [
    "for state in all_states:\n",
    "    resp = requests.get(f\"http://api.nightlights.io/months/2013.1-2013.12/states/{state}/districts\")\n",
    "    for districts in resp.json():\n",
    "        all_districts.add(districts[\"key\"])\n"
   ]
  },
  {
   "cell_type": "code",
   "execution_count": 4,
   "metadata": {},
   "outputs": [
    {
     "data": {
      "text/plain": [
       "605"
      ]
     },
     "execution_count": 4,
     "metadata": {},
     "output_type": "execute_result"
    }
   ],
   "source": [
    "len(all_districts)"
   ]
  },
  {
   "cell_type": "code",
   "execution_count": 6,
   "metadata": {},
   "outputs": [],
   "source": [
    "import csv\n",
    "cnt = 0\n",
    "for district in all_districts:\n",
    "    resp = requests.get(f\"http://api.nightlights.io/districts/{district}/villages?month=2013.12\")\n",
    "    all_villages = []\n",
    "    for village in resp.json():\n",
    "        all_villages.append({\"villagecode\": village[\"villagecode\"], \n",
    "                          \"name\": village[\"name\"], \n",
    "                          \"latitude\": village[\"latitude\"],\n",
    "                          \"longitude\": village[\"longitude\"]}\n",
    "                         )\n",
    "    with open(f\"villages/{district}.csv\", 'w') as f:\n",
    "        csvwriter = csv.writer(f)\n",
    "        header = True\n",
    "        for village in all_villages:\n",
    "            if header:\n",
    "                csvwriter.writerow(village.keys())\n",
    "                header = False\n",
    "            csvwriter.writerow(village.values())\n",
    "                \n",
    "    cnt+=len(all_villages)\n",
    "\n",
    "        "
   ]
  },
  {
   "cell_type": "code",
   "execution_count": 8,
   "metadata": {
    "collapsed": false
   },
   "outputs": [
    {
     "name": "stdout",
     "output_type": "stream",
     "text": [
      "590056\n"
     ]
    }
   ],
   "source": [
    "print(cnt)\n"
   ]
  },
  {
   "cell_type": "code",
   "execution_count": 11,
   "metadata": {},
   "outputs": [],
   "source": [
    "all_village_codes = set()\n",
    "for district in all_districts:\n",
    "    for month in [\"2013.1\", \"2013.2\", \"2013.3\", \"2013.4\"]:\n",
    "        resp = requests.get(f\"http://api.nightlights.io/districts/{district}/villages?month={month}\")\n",
    "       \n",
    "        for village in resp.json():\n",
    "            all_village_codes.add(village[\"villagecode\"])"
   ]
  },
  {
   "cell_type": "code",
   "execution_count": 12,
   "metadata": {},
   "outputs": [
    {
     "data": {
      "text/plain": [
       "590056"
      ]
     },
     "execution_count": 12,
     "metadata": {},
     "output_type": "execute_result"
    }
   ],
   "source": [
    "len(all_village_codes)"
   ]
  },
  {
   "cell_type": "code",
   "execution_count": 15,
   "metadata": {},
   "outputs": [],
   "source": [
    "import pickle\n",
    "pickle.dump(all_village_codes, open(\"all_village_codes\", 'wb'))"
   ]
  },
  {
   "cell_type": "code",
   "execution_count": 16,
   "metadata": {},
   "outputs": [],
   "source": [
    "with open(\"all_village_codes.txt\", 'w') as txtfile:\n",
    "    for village_codes in all_village_codes:\n",
    "        txtfile.write(f\"{village_codes}\\n\")"
   ]
  },
  {
   "cell_type": "code",
   "execution_count": null,
   "metadata": {},
   "outputs": [],
   "source": []
  }
 ],
 "metadata": {
  "kernelspec": {
   "display_name": "Python 2",
   "language": "python",
   "name": "python2"
  },
  "language_info": {
   "codemirror_mode": {
    "name": "ipython",
    "version": 2
   },
   "file_extension": ".py",
   "mimetype": "text/x-python",
   "name": "python",
   "nbconvert_exporter": "python",
   "pygments_lexer": "ipython2",
   "version": "2.7.6"
  }
 },
 "nbformat": 4,
 "nbformat_minor": 0
}
